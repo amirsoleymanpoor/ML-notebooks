{
 "cells": [
  {
   "cell_type": "code",
   "execution_count": 1,
   "id": "525a6101",
   "metadata": {},
   "outputs": [
    {
     "name": "stdout",
     "output_type": "stream",
     "text": [
      "Extracted text has been saved to C:/Users/test/Desktop/extracted_text.docx.\n"
     ]
    }
   ],
   "source": [
    "import fitz  # PyMuPDF\n",
    "from docx import Document\n",
    "\n",
    "# Specify the path for the PDF file and the output Word file\n",
    "pdf_file_path = 'C:/Users/test/Desktop/NumPY.pdf'  # Path to the PDF file\n",
    "output_file_path = 'C:/Users/test/Desktop/extracted_text.docx'  # Path for the output Word file\n",
    "\n",
    "# Create a new Word document\n",
    "doc = Document()\n",
    "doc.add_heading('Extracted Text from PDF', level=1)  # Add a title to the document\n",
    "\n",
    "# Extract text from the PDF file\n",
    "try:\n",
    "    with fitz.open(pdf_file_path) as pdf:\n",
    "        for page_num in range(len(pdf)):  # Iterate through each page in the PDF\n",
    "            page = pdf[page_num]  # Get the current page\n",
    "            text = page.get_text()  # Extract text from the current page\n",
    "            \n",
    "            if text:  # Check if there is any text on the page\n",
    "                # Add the extracted text to the Word document\n",
    "                for paragraph in text.split('\\n'):\n",
    "                    stripped_paragraph = paragraph.strip()  # Remove leading/trailing whitespace\n",
    "                    if stripped_paragraph:  # Only add non-empty paragraphs\n",
    "                        doc.add_paragraph(stripped_paragraph)  # Add each paragraph to the Word document\n",
    "\n",
    "    # Save the Word document\n",
    "    doc.save(output_file_path)  # Save the Word document\n",
    "    print(f\"Extracted text has been saved to {output_file_path}.\")  # Confirmation message\n",
    "\n",
    "except Exception as e:\n",
    "    print(f\"An error occurred: {e}\")  # Handle any exceptions that occur\n"
   ]
  },
  {
   "cell_type": "code",
   "execution_count": 2,
   "id": "8b8913d8",
   "metadata": {},
   "outputs": [
    {
     "data": {
      "application/vnd.jupyter.widget-view+json": {
       "model_id": "032472b5ad02455d8a452b383a578eaa",
       "version_major": 2,
       "version_minor": 0
      },
      "text/plain": [
       "  0%|          | 0/1 [00:00<?, ?it/s]"
      ]
     },
     "metadata": {},
     "output_type": "display_data"
    },
    {
     "name": "stdout",
     "output_type": "stream",
     "text": [
      "PDF file has been saved at C:/Users/test/Desktop/dorost.pdf.\n"
     ]
    }
   ],
   "source": [
    "from docx2pdf import convert\n",
    "\n",
    "# Specify the path for the Word file and the output PDF file\n",
    "word_file_path = 'C:/Users/test/Desktop/dorost.docx'  # Path to the Word file\n",
    "output_pdf_path = 'C:/Users/test/Desktop/dorost.pdf'  # Path for the output PDF file\n",
    "\n",
    "try:\n",
    "    # Convert the Word file to PDF\n",
    "    convert(word_file_path, output_pdf_path)\n",
    "    print(f\"PDF file has been saved at {output_pdf_path}.\")  # Confirmation message\n",
    "\n",
    "except Exception as e:\n",
    "    print(f\"An error occurred during conversion: {e}\")  # Handle any exceptions that occur\n",
    "\n",
    "# Hashtags for documentation and categorization\n",
    "# #Python #docx2pdf #WordToPDF #DocumentConversion #Automation #Programming #CodeSnippet\n",
    "\n"
   ]
  },
  {
   "cell_type": "code",
   "execution_count": null,
   "id": "5c9b61fb",
   "metadata": {},
   "outputs": [],
   "source": []
  }
 ],
 "metadata": {
  "kernelspec": {
   "display_name": "Python 3 (ipykernel)",
   "language": "python",
   "name": "python3"
  },
  "language_info": {
   "codemirror_mode": {
    "name": "ipython",
    "version": 3
   },
   "file_extension": ".py",
   "mimetype": "text/x-python",
   "name": "python",
   "nbconvert_exporter": "python",
   "pygments_lexer": "ipython3",
   "version": "3.10.9"
  }
 },
 "nbformat": 4,
 "nbformat_minor": 5
}
