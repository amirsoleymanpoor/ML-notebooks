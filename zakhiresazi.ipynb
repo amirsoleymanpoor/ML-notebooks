{
 "cells": [
  {
   "cell_type": "code",
   "execution_count": 21,
   "metadata": {},
   "outputs": [],
   "source": [
    "# lets read the dataset\n",
    "data = pd.read_csv('file:///C:/Users/test/Downloads/employee.csv')"
   ]
  },
  {
   "cell_type": "code",
   "execution_count": 22,
   "metadata": {},
   "outputs": [],
   "source": [
    "# ذخیره سازی داده‌ها در فایل Parquet\n",
    "df.to_parquet('my_parquet_file.parquet')"
   ]
  },
  {
   "cell_type": "code",
   "execution_count": 24,
   "metadata": {},
   "outputs": [],
   "source": [
    "# ذخیره سازی داده‌ها در فایل XML\n",
    "df.to_xml('my_xml_file.xml')"
   ]
  },
  {
   "cell_type": "code",
   "execution_count": null,
   "metadata": {},
   "outputs": [],
   "source": [
    "# ذخیره سازی داده‌ها در فایل Feather\n",
    "df.to_feather('my_feather_file.feather')"
   ]
  },
  {
   "cell_type": "code",
   "execution_count": 25,
   "metadata": {},
   "outputs": [],
   "source": [
    "# ذخیره سازی داده‌ها در فایل JSON\n",
    "df.to_json('my_json_file.json')"
   ]
  },
  {
   "cell_type": "code",
   "execution_count": 26,
   "metadata": {},
   "outputs": [],
   "source": [
    "# ذخیره سازی داده‌ها در فایل Excel\n",
    "df.to_excel('my_excel_file.xlsx', index=False)"
   ]
  },
  {
   "cell_type": "code",
   "execution_count": 30,
   "metadata": {},
   "outputs": [],
   "source": [
    "#ذخیره سازی داده‌ها در فایل\n",
    "#بدون نوشتن هدر (نام ستون‌ها)\n",
    "df.to_csv('my_file4.csv', header=False)"
   ]
  },
  {
   "cell_type": "code",
   "execution_count": 33,
   "metadata": {},
   "outputs": [],
   "source": [
    "#ذخیره سازی داده‌ها در فایل  با گرد کردن اعداد به دو رقم اعشار\n",
    "df.to_csv('my_file3.csv', float_format='%.2f')"
   ]
  },
  {
   "cell_type": "code",
   "execution_count": 34,
   "metadata": {},
   "outputs": [],
   "source": [
    "#ذخیره سازی داده‌ها در فایل  با استفاده از جداکننده تب\n",
    "df.to_csv('my_file2.csv', sep='\\t')"
   ]
  },
  {
   "cell_type": "code",
   "execution_count": 38,
   "metadata": {},
   "outputs": [],
   "source": [
    "#ذخیره سازی داده‌ها در فایل در مسیر مشخص‌شده:\n",
    "df.to_csv('C:/Users/test/Downloads/my_file.csv')"
   ]
  },
  {
   "cell_type": "code",
   "execution_count": null,
   "metadata": {},
   "outputs": [],
   "source": [
    "# ذخیره سازی داده‌ها در فایل XML\n",
    "df.to_xml('my_xml_file.xml')"
   ]
  },
  {
   "cell_type": "code",
   "execution_count": null,
   "metadata": {},
   "outputs": [],
   "source": [
    "# ذخیره سازی داده‌ها در فایل HDF5\n",
    "df.to_hdf('my_hdf_file.h5', key='data', mode='w')"
   ]
  },
  {
   "cell_type": "code",
   "execution_count": null,
   "metadata": {},
   "outputs": [],
   "source": [
    "# ذخیره سازی داده‌ها در فایل Pickle\n",
    "df.to_pickle('my_pickle_file.pkl')"
   ]
  },
  {
   "cell_type": "code",
   "execution_count": null,
   "metadata": {},
   "outputs": [],
   "source": [
    "# ذخیره سازی داده‌ها در فایل SQL\n",
    "df.to_sql('my_table', conn)"
   ]
  },
  {
   "cell_type": "code",
   "execution_count": null,
   "metadata": {},
   "outputs": [],
   "source": [
    "# ذخیره سازی داده‌ها در فایل Msgpack\n",
    "df.to_msgpack('my_msgpack_file.msg')"
   ]
  },
  {
   "cell_type": "code",
   "execution_count": null,
   "metadata": {},
   "outputs": [],
   "source": [
    "# ذخیره سازی داده‌ها در فایل ORC\n",
    "df.to_orc('my_orc_file.orc')"
   ]
  },
  {
   "cell_type": "code",
   "execution_count": null,
   "metadata": {},
   "outputs": [],
   "source": [
    "# ذخیره سازی داده‌ها در فایل Avro\n",
    "df.to_avro('my_avro_file.avro')"
   ]
  }
 ],
 "metadata": {
  "colab": {
   "collapsed_sections": [],
   "name": "artificial_neural_network.ipynb",
   "provenance": [],
   "toc_visible": true
  },
  "kernelspec": {
   "display_name": "Python 3 (ipykernel)",
   "language": "python",
   "name": "python3"
  },
  "language_info": {
   "codemirror_mode": {
    "name": "ipython",
    "version": 3
   },
   "file_extension": ".py",
   "mimetype": "text/x-python",
   "name": "python",
   "nbconvert_exporter": "python",
   "pygments_lexer": "ipython3",
   "version": "3.10.9"
  }
 },
 "nbformat": 4,
 "nbformat_minor": 1
}
