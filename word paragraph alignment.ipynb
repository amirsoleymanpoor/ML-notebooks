{
 "cells": [
  {
   "cell_type": "code",
   "execution_count": 5,
   "id": "df1e2c31",
   "metadata": {},
   "outputs": [
    {
     "name": "stdout",
     "output_type": "stream",
     "text": [
      "The modified Word file has been saved at C:\\Users\\test\\Desktop\\file-text_fixed.docx.\n"
     ]
    }
   ],
   "source": [
    "from docx import Document\n",
    "from docx.shared import Pt\n",
    "from docx.enum.text import WD_PARAGRAPH_ALIGNMENT\n",
    "import os\n",
    "\n",
    "# Specify the path to your Word file\n",
    "input_file_path = r'C:\\Users\\test\\Desktop\\file-text.docx'  # Path to the input Word file\n",
    "output_file_path = r'C:\\Users\\test\\Desktop\\file-text_fixed.docx'  # Path to the output Word file\n",
    "\n",
    "# Check if the input file exists\n",
    "if not os.path.exists(input_file_path):\n",
    "    print(f\"The input file was not found at {input_file_path}.\")\n",
    "else:\n",
    "    # Load the Word file\n",
    "    try:\n",
    "        doc = Document(input_file_path)\n",
    "    except Exception as e:\n",
    "        print(f\"Error loading the document: {e}\")\n",
    "        exit()\n",
    "\n",
    "    # Edit each paragraph\n",
    "    for paragraph in doc.paragraphs:\n",
    "        # Check if the text is in Persian or English\n",
    "        if any('\\u0600' <= char <= '\\u06FF' for char in paragraph.text):  # Check for Persian characters\n",
    "            paragraph.alignment = WD_PARAGRAPH_ALIGNMENT.RIGHT  # Set alignment to right\n",
    "            for run in paragraph.runs:\n",
    "                run.font.size = Pt(12)  # Set font size (optional)\n",
    "        else:\n",
    "            paragraph.alignment = WD_PARAGRAPH_ALIGNMENT.LEFT  # Set alignment to left\n",
    "            for run in paragraph.runs:\n",
    "                run.font.size = Pt(12)  # Set font size (optional)\n",
    "\n",
    "    # Save the modified Word file\n",
    "    try:\n",
    "        doc.save(output_file_path)\n",
    "        print(f\"The modified Word file has been saved at {output_file_path}.\")\n",
    "    except Exception as e:\n",
    "        print(f\"Error saving the document: {e}\")\n"
   ]
  },
  {
   "cell_type": "code",
   "execution_count": null,
   "id": "7cd177e7",
   "metadata": {},
   "outputs": [],
   "source": []
  }
 ],
 "metadata": {
  "kernelspec": {
   "display_name": "Python 3 (ipykernel)",
   "language": "python",
   "name": "python3"
  },
  "language_info": {
   "codemirror_mode": {
    "name": "ipython",
    "version": 3
   },
   "file_extension": ".py",
   "mimetype": "text/x-python",
   "name": "python",
   "nbconvert_exporter": "python",
   "pygments_lexer": "ipython3",
   "version": "3.10.9"
  }
 },
 "nbformat": 4,
 "nbformat_minor": 5
}
