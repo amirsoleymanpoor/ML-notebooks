{
  "nbformat": 4,
  "nbformat_minor": 0,
  "metadata": {
    "colab": {
      "provenance": []
    },
    "kernelspec": {
      "name": "python3",
      "display_name": "Python 3"
    },
    "language_info": {
      "name": "python"
    }
  },
  "cells": [
    {
      "cell_type": "code",
      "source": [
        "import pandas as pd\n",
        "from sklearn.preprocessing import PolynomialFeatures, StandardScaler\n",
        "from sklearn.linear_model import LogisticRegression\n",
        "from sklearn.model_selection import train_test_split\n",
        "\n",
        "# Load the data\n",
        "df = pd.read_csv('metro1railCustomer.csv')\n",
        "\n",
        "# Feature engineering\n",
        "df['Distance'] = df.apply(lambda row: abs(ord(row['Destination'][0]) - ord('F')), axis=1)\n",
        "df['NameLength'] = df['Name'].apply(len)\n",
        "\n",
        "# Encode categorical features\n",
        "df['Gender'] = df['Gender'].map({'Male': 0, 'Female': 1})\n",
        "df['Complain'] = df['Complain'].map({'No': 0, 'Yes': 1})\n",
        "\n",
        "# Split the data into training and testing sets\n",
        "X = df[['Age', 'Gender', 'Distance', 'NameLength']]\n",
        "y = df['Complain']\n",
        "X_train, X_test, y_train, y_test = train_test_split(X, y, test_size=0.2, random_state=42)\n",
        "\n",
        "# Scale the features\n",
        "scaler = StandardScaler()\n",
        "X_train_scaled = scaler.fit_transform(X_train)\n",
        "X_test_scaled = scaler.transform(X_test)\n",
        "\n",
        "# Apply polynomial features\n",
        "poly = PolynomialFeatures(degree=2)\n",
        "X_train_poly = poly.fit_transform(X_train_scaled)\n",
        "X_test_poly = poly.transform(X_test_scaled)\n",
        "\n",
        "# Train a logistic regression model\n",
        "model = LogisticRegression(max_iter=500)\n",
        "model.fit(X_train_poly, y_train)\n",
        "\n",
        "# Evaluate the model\n",
        "print('Model Score:', model.score(X_test_poly, y_test))\n"
      ],
      "metadata": {
        "colab": {
          "base_uri": "https://localhost:8080/"
        },
        "id": "x3PB2qM0ZxDn",
        "outputId": "db784f10-8b4b-44bd-e8c6-1023dff51462"
      },
      "execution_count": 19,
      "outputs": [
        {
          "output_type": "stream",
          "name": "stdout",
          "text": [
            "Model Score: 0.75\n"
          ]
        }
      ]
    }
  ]
}